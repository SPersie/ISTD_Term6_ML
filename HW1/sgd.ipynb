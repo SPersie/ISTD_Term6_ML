{
 "cells": [
  {
   "cell_type": "code",
   "execution_count": 43,
   "metadata": {},
   "outputs": [],
   "source": [
    "%matplotlib inline\n",
    "import numpy as np\n",
    "import matplotlib.pyplot as plt\n",
    "import random\n",
    "data = np.genfromtxt('linear.csv',delimiter=',')\n",
    "X = data[:,1:]\n",
    "Y = data[:,0]\n",
    "# print(type(X))"
   ]
  },
  {
   "cell_type": "code",
   "execution_count": 42,
   "metadata": {},
   "outputs": [],
   "source": [
    "def mini_batch(X, y):\n",
    "    loc = random.randint(1, 44)\n",
    "    result_X = X[loc:loc + 5, :]\n",
    "    result_Y = Y[loc:loc + 5]\n",
    "    return result_X, result_Y\n",
    "\n",
    "test_X, test_y = mini_batch(X, Y)\n",
    "# print(test_X, test_y)"
   ]
  },
  {
   "cell_type": "code",
   "execution_count": 20,
   "metadata": {},
   "outputs": [],
   "source": [
    "import theano\n",
    "import theano.tensor as T\n",
    "\n",
    "x = T.matrix(name='x')     # feature matrix\n",
    "y = T.vector(name='y')     # responese vector\n",
    "w = theano.shared(np.zeros((4,1)),name='w')     # model parameteres\n",
    "\n",
    "risk = T.sum((T.dot(x,w).T - y)**2)/10     # empirical risk\n",
    "grad_risk = T.grad(risk, wrt=w)     # gradient of the risk"
   ]
  },
  {
   "cell_type": "code",
   "execution_count": 41,
   "metadata": {},
   "outputs": [
    {
     "name": "stdout",
     "output_type": "stream",
     "text": [
      "[[-0.57992765]\n",
      " [ 1.35436854]\n",
      " [ 0.01884709]\n",
      " [-1.88086824]]\n",
      "0.006610305112215585\n",
      "[[-0.5673264 ]\n",
      " [ 1.34984663]\n",
      " [ 0.017143  ]\n",
      " [-1.87757628]]\n",
      "0.0007559927287628303\n"
     ]
    }
   ],
   "source": [
    "n_steps = 1000\n",
    "lost_list = []\n",
    "w_dict = {}\n",
    "for i in range(n_steps):\n",
    "    for_x, for_y = mini_batch(X, Y)\n",
    "    train_model = theano.function(inputs=[],\n",
    "                             outputs=risk,\n",
    "                             updates=[(w, w-(1/(i+1))*grad_risk)],\n",
    "                             givens={x:for_x, y:for_y})\n",
    "    \n",
    "#     print(train_model())\n",
    "#     print(w.get_value())\n",
    "    lost_list.append(train_model().item(0))\n",
    "    w_dict[lost_list[-1]] = w.get_value()\n",
    "    \n",
    "print(w.get_value())\n",
    "print(lost_list[-1])\n",
    "\n",
    "lost_list.sort()\n",
    "print(w_dict[lost_list[0]])\n",
    "print(lost_list[0])\n"
   ]
  },
  {
   "cell_type": "code",
   "execution_count": null,
   "metadata": {},
   "outputs": [],
   "source": []
  }
 ],
 "metadata": {
  "kernelspec": {
   "display_name": "Python 3",
   "language": "python",
   "name": "python3"
  },
  "language_info": {
   "codemirror_mode": {
    "name": "ipython",
    "version": 3
   },
   "file_extension": ".py",
   "mimetype": "text/x-python",
   "name": "python",
   "nbconvert_exporter": "python",
   "pygments_lexer": "ipython3",
   "version": "3.6.5"
  }
 },
 "nbformat": 4,
 "nbformat_minor": 2
}
