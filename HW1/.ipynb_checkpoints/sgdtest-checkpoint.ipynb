{
 "cells": [
  {
   "cell_type": "code",
   "execution_count": 1,
   "metadata": {},
   "outputs": [],
   "source": [
    "%matplotlib inline\n",
    "import numpy as np\n",
    "import matplotlib.pyplot as plt\n",
    "data = np.genfromtxt('linear.csv',delimiter=',')\n",
    "X = data[:,1:]\n",
    "Y = data[:,0]"
   ]
  },
  {
   "cell_type": "code",
   "execution_count": 13,
   "metadata": {},
   "outputs": [
    {
     "name": "stdout",
     "output_type": "stream",
     "text": [
      "[-0.57392068  1.35757059  0.01527565 -1.88288076]\n"
     ]
    }
   ],
   "source": [
    "XTX = np.dot(X.T, X)\n",
    "inverseXTX = np.linalg.inv(XTX)\n",
    "XXX = np.dot(inverseXTX, X.T)\n",
    "theta = np.dot(XXX, Y)\n",
    "print(theta)"
   ]
  },
  {
   "cell_type": "code",
   "execution_count": 2,
   "metadata": {},
   "outputs": [],
   "source": [
    "import theano\n",
    "import theano.tensor as T\n",
    "d = X.shape[1]     # dimension of feature vectors\n",
    "n = X.shape[0]     # number of training samples\n",
    "learn_rate = 0.5     # learning rate for gradient descent"
   ]
  },
  {
   "cell_type": "code",
   "execution_count": 3,
   "metadata": {},
   "outputs": [],
   "source": [
    "x = T.matrix(name='x')     # feature matrix\n",
    "y = T.vector(name='y')     # responese vector\n",
    "w = theano.shared(np.zeros((d,1)),name='w')     # model parameteres"
   ]
  },
  {
   "cell_type": "code",
   "execution_count": 4,
   "metadata": {},
   "outputs": [],
   "source": [
    "risk = T.sum((T.dot(x,w).T - y)**2)/2/n     # empirical risk\n",
    "grad_risk = T.grad(risk, wrt=w)     # gradient of the risk\n",
    "\n",
    "# print(grad_risk)"
   ]
  },
  {
   "cell_type": "code",
   "execution_count": 5,
   "metadata": {},
   "outputs": [],
   "source": [
    "train_model = theano.function(inputs=[],\n",
    "                             outputs=risk,\n",
    "                             updates=[(w, w-learn_rate*grad_risk)],\n",
    "                             givens={x:X, y:Y})"
   ]
  },
  {
   "cell_type": "code",
   "execution_count": 6,
   "metadata": {},
   "outputs": [],
   "source": [
    "n_steps = 53\n",
    "lost_list = []\n",
    "w_dict = {}\n",
    "for i in range(n_steps):\n",
    "    print(train_model())\n",
    "    print(w.get_value())\n",
    "    lost_list.append(train_model())\n",
    "    w_dict[train_model()] = w.get_value()\n",
    "    \n",
    "print(w.get_value())\n",
    "lost_list.sort()\n",
    "print(w_dict[lost_list[0]])"
   ]
  },
  {
   "cell_type": "code",
   "execution_count": null,
   "metadata": {},
   "outputs": [],
   "source": []
  }
 ],
 "metadata": {
  "kernelspec": {
   "display_name": "Python 3",
   "language": "python",
   "name": "python3"
  },
  "language_info": {
   "codemirror_mode": {
    "name": "ipython",
    "version": 3
   },
   "file_extension": ".py",
   "mimetype": "text/x-python",
   "name": "python",
   "nbconvert_exporter": "python",
   "pygments_lexer": "ipython3",
   "version": "3.6.6"
  }
 },
 "nbformat": 4,
 "nbformat_minor": 2
}
