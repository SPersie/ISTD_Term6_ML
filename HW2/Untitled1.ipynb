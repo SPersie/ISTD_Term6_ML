{
 "cells": [
  {
   "cell_type": "code",
   "execution_count": 42,
   "metadata": {},
   "outputs": [],
   "source": [
    "import numpy as np\n",
    "from scipy.optimize import fmin_l_bfgs_b as minimize\n",
    "def costgrad(x, a):\n",
    "    cost = np.sum((x-a)**2)\n",
    "    grad = 2 * (x-a)\n",
    "    return cost, grad"
   ]
  },
  {
   "cell_type": "code",
   "execution_count": 43,
   "metadata": {},
   "outputs": [],
   "source": [
    "a = np.array([1,2])\n",
    "x = np.random.randn(2)\n",
    "optx, cost, messages = minimize(costgrad, x, args=[a])"
   ]
  },
  {
   "cell_type": "code",
   "execution_count": 44,
   "metadata": {},
   "outputs": [
    {
     "name": "stdout",
     "output_type": "stream",
     "text": [
      "[1. 2.] 4.930380657631324e-32 {'grad': array([ 0.0000000e+00, -4.4408921e-16]), 'task': b'CONVERGENCE: NORM_OF_PROJECTED_GRADIENT_<=_PGTOL', 'funcalls': 3, 'nit': 2, 'warnflag': 0}\n"
     ]
    }
   ],
   "source": [
    "print(optx, cost, messages)"
   ]
  },
  {
   "cell_type": "code",
   "execution_count": 45,
   "metadata": {},
   "outputs": [
    {
     "name": "stdout",
     "output_type": "stream",
     "text": [
      "[-0.03217588  0.59214651 -0.88610655]\n"
     ]
    }
   ],
   "source": [
    "print(np.random.randn(3))"
   ]
  },
  {
   "cell_type": "code",
   "execution_count": null,
   "metadata": {},
   "outputs": [],
   "source": [
    "cost = np.sum((np.matmul(x,w.transpose) -y)**2)/2/n + np.sum(w**2) *lamda / 2\n",
    "    grad = lamda *w + np.matmul(np.matmul(x, x.transpose()), w) / n - np.matmul(x.transpose(), y) / n\n",
    "    "
   ]
  },
  {
   "cell_type": "code",
   "execution_count": 54,
   "metadata": {},
   "outputs": [
    {
     "name": "stdout",
     "output_type": "stream",
     "text": [
      "[[-1.47752373 -0.0502532  -0.17023633  1.        ]\n",
      " [ 0.90709037  0.66451566  0.47865149  1.        ]\n",
      " [ 0.4003217   0.43267376 -0.43504849  1.        ]]\n",
      "[-1.13933054 -1.3895628  -1.46427865]\n",
      "[-0.70528183 -0.64944129  0.17752787  0.4684145 ]\n"
     ]
    }
   ],
   "source": [
    "data = np.genfromtxt('linear.csv', delimiter=',')\n",
    "ttx = data[:3, 1:]\n",
    "tty = data[:3, 0]\n",
    "ttw = np.random.randn(4)\n",
    "print(ttx)\n",
    "print(tty)\n",
    "print(ttw)"
   ]
  },
  {
   "cell_type": "code",
   "execution_count": 58,
   "metadata": {},
   "outputs": [
    {
     "name": "stdout",
     "output_type": "stream",
     "text": [
      "[ 1.51289996 -0.51792978 -0.17215455]\n"
     ]
    }
   ],
   "source": [
    "print(np.matmul(ttx, ttw))"
   ]
  },
  {
   "cell_type": "code",
   "execution_count": 67,
   "metadata": {},
   "outputs": [
    {
     "name": "stdout",
     "output_type": "stream",
     "text": [
      "1.270716284799029\n"
     ]
    }
   ],
   "source": [
    "print(np.sum((np.matmul(ttx, ttw)-tty)**2)/2/4 + np.sum(ttw**2)*lamda/2)"
   ]
  },
  {
   "cell_type": "code",
   "execution_count": 80,
   "metadata": {},
   "outputs": [
    {
     "name": "stdout",
     "output_type": "stream",
     "text": [
      "[[ 3.16614678  0.85023473  0.51154903 -0.17011167]\n",
      " [ 0.85023473  0.63131303  0.13839227  1.04693622]\n",
      " [ 0.51154903  0.13839227  0.44735485 -0.12663334]\n",
      " [-0.17011167  1.04693622 -0.12663334  3.        ]]\n",
      "[-2.77407191 -0.49468726 -0.43056282  0.82281563]\n"
     ]
    }
   ],
   "source": [
    "# print(np.matmul(ttx, ttx.transpose()))\n",
    "testtest = np.matmul(ttx.transpose(), ttx)\n",
    "print(testtest)\n",
    "ttt = np.matmul(testtest, ttw.transpose())\n",
    "print(ttt)"
   ]
  },
  {
   "cell_type": "code",
   "execution_count": null,
   "metadata": {},
   "outputs": [],
   "source": []
  }
 ],
 "metadata": {
  "kernelspec": {
   "display_name": "Python 3",
   "language": "python",
   "name": "python3"
  },
  "language_info": {
   "codemirror_mode": {
    "name": "ipython",
    "version": 3
   },
   "file_extension": ".py",
   "mimetype": "text/x-python",
   "name": "python",
   "nbconvert_exporter": "python",
   "pygments_lexer": "ipython3",
   "version": "3.7.0"
  }
 },
 "nbformat": 4,
 "nbformat_minor": 2
}
